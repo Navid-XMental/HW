{
  "nbformat": 4,
  "nbformat_minor": 0,
  "metadata": {
    "colab": {
      "provenance": [],
      "authorship_tag": "ABX9TyMKLC0nDY3Viyfc68iwthLU",
      "include_colab_link": true
    },
    "kernelspec": {
      "name": "python3",
      "display_name": "Python 3"
    },
    "language_info": {
      "name": "python"
    }
  },
  "cells": [
    {
      "cell_type": "markdown",
      "metadata": {
        "id": "view-in-github",
        "colab_type": "text"
      },
      "source": [
        "<a href=\"https://colab.research.google.com/github/Navid-XMental/HW/blob/main/first%20py%20code%20.ipynb\" target=\"_parent\"><img src=\"https://colab.research.google.com/assets/colab-badge.svg\" alt=\"Open In Colab\"/></a>"
      ]
    },
    {
      "cell_type": "code",
      "execution_count": null,
      "metadata": {
        "colab": {
          "base_uri": "https://localhost:8080/"
        },
        "id": "daybKL-RfzNr",
        "outputId": "1cd82e38-031c-4321-e5f9-4819231b26ef"
      },
      "outputs": [
        {
          "output_type": "stream",
          "name": "stdout",
          "text": [
            "Enter a number: 0\n",
            "Error: Number cannot be 0.\n"
          ]
        }
      ],
      "source": [
        "num = int(input(\"Enter a number: \"))\n",
        "\n",
        "if num == 0:\n",
        "    print(\"Error: Number cannot be 0.\")\n",
        "elif num % 2 == 0:\n",
        "    print(num, \"doubled is\", num * 2)\n",
        "else:\n",
        "    print(num, \"tripled is\", num * 3)"
      ]
    },
    {
      "cell_type": "markdown",
      "source": [
        "**توضیحات**:\n",
        "\n",
        "\n",
        "\n",
        "1.  ابتدا یک عدد از کاربر دریافت می‌کنیم و در متغیر num ذخیره می‌کنیم.\n",
        "2.  سپس با استفاده از دستور شرطی if، در صورتی که عدد برابر با 0 باشد، پیغام خطای مناسب چاپ می‌شود.\n",
        "\n",
        "1.   در صورتی که عدد بر 2 بخش‌پذیر باشد، با استفاده از دستور شرطی else، عدد دو برابر شده و چاپ می‌شود.\n",
        "\n",
        "2.   در غیر این صورت، یعنی در صورتی که عدد بر 2 بخش‌پذیر نباشد، با استفاده از دستور شرطی else، عدد سه برابر شده و چاپ می‌شود.\n",
        "\n",
        "\n",
        "\n",
        "\n",
        "\n",
        "\n",
        "\n",
        "\n",
        "\n",
        "\n",
        "\n"
      ],
      "metadata": {
        "id": "AOf3wFeYgwFy"
      }
    }
  ]
}